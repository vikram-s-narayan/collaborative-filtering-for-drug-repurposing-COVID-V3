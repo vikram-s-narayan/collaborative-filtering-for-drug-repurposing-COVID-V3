{
 "cells": [
  {
   "cell_type": "markdown",
   "metadata": {},
   "source": [
    "# Using Collaborative Filtering To Repurpose Drugs for COVID-19"
   ]
  },
  {
   "cell_type": "markdown",
   "metadata": {},
   "source": [
    "### Introduction\n",
    "\n",
    "This notebook is attempting to accelerate this process of drug repurposing for COVID-19 by using a popular and relatively simple technique called Collaborative Filtering to search for potential drug candidates."
   ]
  },
  {
   "cell_type": "markdown",
   "metadata": {},
   "source": [
    "### What is Collaborative Filtering and How Can We Use It for Drug Repurposing?\n",
    "\n",
    "When a website recommends a product to you it can recommend the product to you in one fo two ways:\n",
    "\n",
    "1. Using a content based approach (you are female, married and aged 30+; this product is bought by married females aged 30+ and therefore can be recommended to you)\n",
    "2. Using collaborative filtering wherein the latent factors (female, married, aged 30+ etc.) of the product and the user are not used but rather, they are inferred based on past purchases. More info here - https://en.wikipedia.org/wiki/Collaborative_filtering\n",
    "\n",
    "We're using collaborative filtering for drug repurposing by simply replacing users with drugs and products with diseases. So if we have a large enough database of drugs and disease conditions, we could, in theory predict the efficacy of a drug on a particular disease condition (ex: COVID-19).\n",
    "\n",
    "Similar approaches (but more complicated by including protein interactions and structural similarities in the calculations) have been tried earlier for other conditions - \n",
    "1.  Computational drug repositioning using collaborative filtering via multi-source fusion https://www.sciencedirect.com/science/article/abs/pii/S0957417417303202\n",
    "\n",
    "2. Realizing drug repositioning by adapting a recommendation system to handle the process:: https://bmcbioinformatics.biomedcentral.com/articles/10.1186/s12859-018-2142-1"
   ]
  },
  {
   "cell_type": "markdown",
   "metadata": {},
   "source": [
    "### Potential Drawbacks of Collaborative Filtering For COVID-19\n",
    "1. \"Cold Start Problem\" - since COVID-19 is a new disease and no drug has been conclusively proven to be efficacious against the disease, we simply do not enough data to make a prediction. This situation will rapidly change if some existing drug emerges as having efficacy. For the purpose of modeling here, I've simply taken some drugs that have anecdotally shown some efficacy or are currently approved for use against COVID-19. \n",
    "    \n",
    "2. Popular drugs may get recommended more ... we'll need to watch out for drugs that address many types of cancers or steroids that are used for a variety of conditions.\n"
   ]
  },
  {
   "cell_type": "markdown",
   "metadata": {},
   "source": [
    "### Citation for Drug Database Used\n",
    "I've used the database available on http://apps.chiragjpgroup.org/repoDB/ for this notebook (associated paper: 'Brown AS and Patel CJ. repoDB: A New Standard for Drug Repositioning Validation. Scientific Data. 170029 (2017).'\n"
   ]
  },
  {
   "cell_type": "markdown",
   "metadata": {},
   "source": [
    "### Code for Collaborative Filtering"
   ]
  },
  {
   "cell_type": "markdown",
   "metadata": {},
   "source": [
    "First we make some imports. I'm using a library called fastai which is built on top of pytorch. More info here - https://www.fast.ai/2018/10/02/fastai-ai/"
   ]
  },
  {
   "cell_type": "code",
   "execution_count": 4,
   "metadata": {},
   "outputs": [],
   "source": [
    "from fastai.collab import *\n",
    "from fastai.tabular import *"
   ]
  },
  {
   "cell_type": "markdown",
   "metadata": {},
   "source": [
    "Next we take the full drug database and peek inside it. This is what we'll be using to train our model."
   ]
  },
  {
   "cell_type": "code",
   "execution_count": 5,
   "metadata": {},
   "outputs": [],
   "source": [
    "all_drugs = pd.read_csv('./full.csv')"
   ]
  },
  {
   "cell_type": "code",
   "execution_count": 6,
   "metadata": {},
   "outputs": [
    {
     "data": {
      "text/html": [
       "<div>\n",
       "<style scoped>\n",
       "    .dataframe tbody tr th:only-of-type {\n",
       "        vertical-align: middle;\n",
       "    }\n",
       "\n",
       "    .dataframe tbody tr th {\n",
       "        vertical-align: top;\n",
       "    }\n",
       "\n",
       "    .dataframe thead th {\n",
       "        text-align: right;\n",
       "    }\n",
       "</style>\n",
       "<table border=\"1\" class=\"dataframe\">\n",
       "  <thead>\n",
       "    <tr style=\"text-align: right;\">\n",
       "      <th></th>\n",
       "      <th>drug_name</th>\n",
       "      <th>drug_id</th>\n",
       "      <th>ind_name</th>\n",
       "      <th>ind_id</th>\n",
       "      <th>NCT</th>\n",
       "      <th>status</th>\n",
       "      <th>phase</th>\n",
       "      <th>DetailedStatus</th>\n",
       "    </tr>\n",
       "  </thead>\n",
       "  <tbody>\n",
       "    <tr>\n",
       "      <th>0</th>\n",
       "      <td>Lepirudin</td>\n",
       "      <td>DB00001</td>\n",
       "      <td>Heparin-induced thrombocytopenia with thrombosis</td>\n",
       "      <td>C0272275</td>\n",
       "      <td>NaN</td>\n",
       "      <td>Approved</td>\n",
       "      <td>NaN</td>\n",
       "      <td>NaN</td>\n",
       "    </tr>\n",
       "    <tr>\n",
       "      <th>1</th>\n",
       "      <td>Cetuximab</td>\n",
       "      <td>DB00002</td>\n",
       "      <td>Squamous cell carcinoma of mouth</td>\n",
       "      <td>C0585362</td>\n",
       "      <td>NaN</td>\n",
       "      <td>Approved</td>\n",
       "      <td>NaN</td>\n",
       "      <td>NaN</td>\n",
       "    </tr>\n",
       "    <tr>\n",
       "      <th>2</th>\n",
       "      <td>Cetuximab</td>\n",
       "      <td>DB00002</td>\n",
       "      <td>Squamous cell carcinoma of nose</td>\n",
       "      <td>C3163899</td>\n",
       "      <td>NaN</td>\n",
       "      <td>Approved</td>\n",
       "      <td>NaN</td>\n",
       "      <td>NaN</td>\n",
       "    </tr>\n",
       "    <tr>\n",
       "      <th>3</th>\n",
       "      <td>Cetuximab</td>\n",
       "      <td>DB00002</td>\n",
       "      <td>Squamous cell carcinoma of pharynx</td>\n",
       "      <td>C1319317</td>\n",
       "      <td>NaN</td>\n",
       "      <td>Approved</td>\n",
       "      <td>NaN</td>\n",
       "      <td>NaN</td>\n",
       "    </tr>\n",
       "    <tr>\n",
       "      <th>4</th>\n",
       "      <td>Cetuximab</td>\n",
       "      <td>DB00002</td>\n",
       "      <td>Laryngeal Squamous Cell Carcinoma</td>\n",
       "      <td>C0280324</td>\n",
       "      <td>NaN</td>\n",
       "      <td>Approved</td>\n",
       "      <td>NaN</td>\n",
       "      <td>NaN</td>\n",
       "    </tr>\n",
       "  </tbody>\n",
       "</table>\n",
       "</div>"
      ],
      "text/plain": [
       "   drug_name  drug_id                                          ind_name  \\\n",
       "0  Lepirudin  DB00001  Heparin-induced thrombocytopenia with thrombosis   \n",
       "1  Cetuximab  DB00002                  Squamous cell carcinoma of mouth   \n",
       "2  Cetuximab  DB00002                   Squamous cell carcinoma of nose   \n",
       "3  Cetuximab  DB00002                Squamous cell carcinoma of pharynx   \n",
       "4  Cetuximab  DB00002                 Laryngeal Squamous Cell Carcinoma   \n",
       "\n",
       "     ind_id  NCT    status phase DetailedStatus  \n",
       "0  C0272275  NaN  Approved   NaN            NaN  \n",
       "1  C0585362  NaN  Approved   NaN            NaN  \n",
       "2  C3163899  NaN  Approved   NaN            NaN  \n",
       "3  C1319317  NaN  Approved   NaN            NaN  \n",
       "4  C0280324  NaN  Approved   NaN            NaN  "
      ]
     },
     "execution_count": 6,
     "metadata": {},
     "output_type": "execute_result"
    }
   ],
   "source": [
    "all_drugs.head()"
   ]
  },
  {
   "cell_type": "code",
   "execution_count": 7,
   "metadata": {},
   "outputs": [
    {
     "data": {
      "text/html": [
       "<div>\n",
       "<style scoped>\n",
       "    .dataframe tbody tr th:only-of-type {\n",
       "        vertical-align: middle;\n",
       "    }\n",
       "\n",
       "    .dataframe tbody tr th {\n",
       "        vertical-align: top;\n",
       "    }\n",
       "\n",
       "    .dataframe thead th {\n",
       "        text-align: right;\n",
       "    }\n",
       "</style>\n",
       "<table border=\"1\" class=\"dataframe\">\n",
       "  <thead>\n",
       "    <tr style=\"text-align: right;\">\n",
       "      <th></th>\n",
       "      <th>drug_name</th>\n",
       "      <th>drug_id</th>\n",
       "      <th>ind_name</th>\n",
       "      <th>ind_id</th>\n",
       "      <th>NCT</th>\n",
       "      <th>status</th>\n",
       "      <th>phase</th>\n",
       "      <th>DetailedStatus</th>\n",
       "    </tr>\n",
       "  </thead>\n",
       "  <tbody>\n",
       "    <tr>\n",
       "      <th>10557</th>\n",
       "      <td>Temozolomide</td>\n",
       "      <td>DB00853</td>\n",
       "      <td>CNS disorder</td>\n",
       "      <td>C0007682</td>\n",
       "      <td>NCT02661113</td>\n",
       "      <td>Withdrawn</td>\n",
       "      <td>Phase 2</td>\n",
       "      <td>Sponsor withdrew support; Study did not progre...</td>\n",
       "    </tr>\n",
       "    <tr>\n",
       "      <th>10558</th>\n",
       "      <td>Dasatinib</td>\n",
       "      <td>DB01254</td>\n",
       "      <td>CNS disorder</td>\n",
       "      <td>C0007682</td>\n",
       "      <td>NCT02661113</td>\n",
       "      <td>Withdrawn</td>\n",
       "      <td>Phase 2</td>\n",
       "      <td>Sponsor withdrew support; Study did not progre...</td>\n",
       "    </tr>\n",
       "    <tr>\n",
       "      <th>10559</th>\n",
       "      <td>Dacarbazine</td>\n",
       "      <td>DB00851</td>\n",
       "      <td>Brain Diseases</td>\n",
       "      <td>C0006111</td>\n",
       "      <td>NCT02661113</td>\n",
       "      <td>Withdrawn</td>\n",
       "      <td>Phase 2</td>\n",
       "      <td>Sponsor withdrew support; Study did not progre...</td>\n",
       "    </tr>\n",
       "    <tr>\n",
       "      <th>10560</th>\n",
       "      <td>Temozolomide</td>\n",
       "      <td>DB00853</td>\n",
       "      <td>Brain Diseases</td>\n",
       "      <td>C0006111</td>\n",
       "      <td>NCT02661113</td>\n",
       "      <td>Withdrawn</td>\n",
       "      <td>Phase 2</td>\n",
       "      <td>Sponsor withdrew support; Study did not progre...</td>\n",
       "    </tr>\n",
       "    <tr>\n",
       "      <th>10561</th>\n",
       "      <td>Dasatinib</td>\n",
       "      <td>DB01254</td>\n",
       "      <td>Brain Diseases</td>\n",
       "      <td>C0006111</td>\n",
       "      <td>NCT02661113</td>\n",
       "      <td>Withdrawn</td>\n",
       "      <td>Phase 2</td>\n",
       "      <td>Sponsor withdrew support; Study did not progre...</td>\n",
       "    </tr>\n",
       "  </tbody>\n",
       "</table>\n",
       "</div>"
      ],
      "text/plain": [
       "          drug_name  drug_id        ind_name    ind_id          NCT  \\\n",
       "10557  Temozolomide  DB00853    CNS disorder  C0007682  NCT02661113   \n",
       "10558     Dasatinib  DB01254    CNS disorder  C0007682  NCT02661113   \n",
       "10559   Dacarbazine  DB00851  Brain Diseases  C0006111  NCT02661113   \n",
       "10560  Temozolomide  DB00853  Brain Diseases  C0006111  NCT02661113   \n",
       "10561     Dasatinib  DB01254  Brain Diseases  C0006111  NCT02661113   \n",
       "\n",
       "          status    phase                                     DetailedStatus  \n",
       "10557  Withdrawn  Phase 2  Sponsor withdrew support; Study did not progre...  \n",
       "10558  Withdrawn  Phase 2  Sponsor withdrew support; Study did not progre...  \n",
       "10559  Withdrawn  Phase 2  Sponsor withdrew support; Study did not progre...  \n",
       "10560  Withdrawn  Phase 2  Sponsor withdrew support; Study did not progre...  \n",
       "10561  Withdrawn  Phase 2  Sponsor withdrew support; Study did not progre...  "
      ]
     },
     "execution_count": 7,
     "metadata": {},
     "output_type": "execute_result"
    }
   ],
   "source": [
    "all_drugs.tail()"
   ]
  },
  {
   "cell_type": "code",
   "execution_count": 8,
   "metadata": {},
   "outputs": [
    {
     "data": {
      "text/plain": [
       "(10562, 8)"
      ]
     },
     "execution_count": 8,
     "metadata": {},
     "output_type": "execute_result"
    }
   ],
   "source": [
    "all_drugs.shape"
   ]
  },
  {
   "cell_type": "markdown",
   "metadata": {},
   "source": [
    "From the full drug database I've made a simplified version with just three columns. The last column ('rating') provides a score of 1, if a drug is used for a particular condition. "
   ]
  },
  {
   "cell_type": "code",
   "execution_count": 9,
   "metadata": {},
   "outputs": [],
   "source": [
    "approved_covid = pd.read_csv('./approved_COVID.csv')"
   ]
  },
  {
   "cell_type": "code",
   "execution_count": 10,
   "metadata": {},
   "outputs": [
    {
     "data": {
      "text/html": [
       "<div>\n",
       "<style scoped>\n",
       "    .dataframe tbody tr th:only-of-type {\n",
       "        vertical-align: middle;\n",
       "    }\n",
       "\n",
       "    .dataframe tbody tr th {\n",
       "        vertical-align: top;\n",
       "    }\n",
       "\n",
       "    .dataframe thead th {\n",
       "        text-align: right;\n",
       "    }\n",
       "</style>\n",
       "<table border=\"1\" class=\"dataframe\">\n",
       "  <thead>\n",
       "    <tr style=\"text-align: right;\">\n",
       "      <th></th>\n",
       "      <th>drug_name</th>\n",
       "      <th>ind_name</th>\n",
       "      <th>rating</th>\n",
       "    </tr>\n",
       "  </thead>\n",
       "  <tbody>\n",
       "    <tr>\n",
       "      <th>0</th>\n",
       "      <td>Lepirudin</td>\n",
       "      <td>Heparin-induced thrombocytopenia with thrombosis</td>\n",
       "      <td>1</td>\n",
       "    </tr>\n",
       "    <tr>\n",
       "      <th>1</th>\n",
       "      <td>Cetuximab</td>\n",
       "      <td>Squamous cell carcinoma of mouth</td>\n",
       "      <td>1</td>\n",
       "    </tr>\n",
       "    <tr>\n",
       "      <th>2</th>\n",
       "      <td>Cetuximab</td>\n",
       "      <td>Squamous cell carcinoma of nose</td>\n",
       "      <td>1</td>\n",
       "    </tr>\n",
       "    <tr>\n",
       "      <th>3</th>\n",
       "      <td>Cetuximab</td>\n",
       "      <td>Squamous cell carcinoma of pharynx</td>\n",
       "      <td>1</td>\n",
       "    </tr>\n",
       "    <tr>\n",
       "      <th>4</th>\n",
       "      <td>Cetuximab</td>\n",
       "      <td>Laryngeal Squamous Cell Carcinoma</td>\n",
       "      <td>1</td>\n",
       "    </tr>\n",
       "  </tbody>\n",
       "</table>\n",
       "</div>"
      ],
      "text/plain": [
       "   drug_name                                          ind_name  rating\n",
       "0  Lepirudin  Heparin-induced thrombocytopenia with thrombosis       1\n",
       "1  Cetuximab                  Squamous cell carcinoma of mouth       1\n",
       "2  Cetuximab                   Squamous cell carcinoma of nose       1\n",
       "3  Cetuximab                Squamous cell carcinoma of pharynx       1\n",
       "4  Cetuximab                 Laryngeal Squamous Cell Carcinoma       1"
      ]
     },
     "execution_count": 10,
     "metadata": {},
     "output_type": "execute_result"
    }
   ],
   "source": [
    "approved_covid.head()"
   ]
  },
  {
   "cell_type": "markdown",
   "metadata": {},
   "source": [
    "In the end, I added 14 drugs that are currently being tried for COVID-19 in the literature as of today (May 6, 2020). Favipiravir was not available in the database that I downloaded. So I added an additional row for it associating it with influenza in addition to associating it with COVID-19"
   ]
  },
  {
   "cell_type": "code",
   "execution_count": 11,
   "metadata": {},
   "outputs": [
    {
     "data": {
      "text/html": [
       "<div>\n",
       "<style scoped>\n",
       "    .dataframe tbody tr th:only-of-type {\n",
       "        vertical-align: middle;\n",
       "    }\n",
       "\n",
       "    .dataframe tbody tr th {\n",
       "        vertical-align: top;\n",
       "    }\n",
       "\n",
       "    .dataframe thead th {\n",
       "        text-align: right;\n",
       "    }\n",
       "</style>\n",
       "<table border=\"1\" class=\"dataframe\">\n",
       "  <thead>\n",
       "    <tr style=\"text-align: right;\">\n",
       "      <th></th>\n",
       "      <th>drug_name</th>\n",
       "      <th>ind_name</th>\n",
       "      <th>rating</th>\n",
       "    </tr>\n",
       "  </thead>\n",
       "  <tbody>\n",
       "    <tr>\n",
       "      <th>6677</th>\n",
       "      <td>Remdesivir</td>\n",
       "      <td>COVID-19</td>\n",
       "      <td>1</td>\n",
       "    </tr>\n",
       "    <tr>\n",
       "      <th>6678</th>\n",
       "      <td>Hydroxychloroquine</td>\n",
       "      <td>COVID-19</td>\n",
       "      <td>1</td>\n",
       "    </tr>\n",
       "    <tr>\n",
       "      <th>6679</th>\n",
       "      <td>Azithromycin</td>\n",
       "      <td>COVID-19</td>\n",
       "      <td>1</td>\n",
       "    </tr>\n",
       "    <tr>\n",
       "      <th>6680</th>\n",
       "      <td>Tocilizumab</td>\n",
       "      <td>COVID-19</td>\n",
       "      <td>1</td>\n",
       "    </tr>\n",
       "    <tr>\n",
       "      <th>6681</th>\n",
       "      <td>Lopinavir</td>\n",
       "      <td>COVID-19</td>\n",
       "      <td>1</td>\n",
       "    </tr>\n",
       "    <tr>\n",
       "      <th>6682</th>\n",
       "      <td>Ritonavir</td>\n",
       "      <td>COVID-19</td>\n",
       "      <td>1</td>\n",
       "    </tr>\n",
       "    <tr>\n",
       "      <th>6683</th>\n",
       "      <td>Atovaquone</td>\n",
       "      <td>COVID-19</td>\n",
       "      <td>1</td>\n",
       "    </tr>\n",
       "    <tr>\n",
       "      <th>6684</th>\n",
       "      <td>Omeprazole</td>\n",
       "      <td>COVID-20</td>\n",
       "      <td>1</td>\n",
       "    </tr>\n",
       "    <tr>\n",
       "      <th>6685</th>\n",
       "      <td>Famotidine</td>\n",
       "      <td>COVID-21</td>\n",
       "      <td>1</td>\n",
       "    </tr>\n",
       "    <tr>\n",
       "      <th>6686</th>\n",
       "      <td>Oseltamivir</td>\n",
       "      <td>COVID-22</td>\n",
       "      <td>1</td>\n",
       "    </tr>\n",
       "    <tr>\n",
       "      <th>6687</th>\n",
       "      <td>Favipiravir</td>\n",
       "      <td>Influenza</td>\n",
       "      <td>1</td>\n",
       "    </tr>\n",
       "    <tr>\n",
       "      <th>6688</th>\n",
       "      <td>Favipiravir</td>\n",
       "      <td>COVID-19</td>\n",
       "      <td>1</td>\n",
       "    </tr>\n",
       "    <tr>\n",
       "      <th>6689</th>\n",
       "      <td>Emtricitabine</td>\n",
       "      <td>COVID-19</td>\n",
       "      <td>1</td>\n",
       "    </tr>\n",
       "    <tr>\n",
       "      <th>6690</th>\n",
       "      <td>Tenofovir</td>\n",
       "      <td>COVID-19</td>\n",
       "      <td>1</td>\n",
       "    </tr>\n",
       "    <tr>\n",
       "      <th>6691</th>\n",
       "      <td>Atazanavir</td>\n",
       "      <td>COVID-19</td>\n",
       "      <td>1</td>\n",
       "    </tr>\n",
       "  </tbody>\n",
       "</table>\n",
       "</div>"
      ],
      "text/plain": [
       "               drug_name   ind_name  rating\n",
       "6677          Remdesivir   COVID-19       1\n",
       "6678  Hydroxychloroquine   COVID-19       1\n",
       "6679        Azithromycin   COVID-19       1\n",
       "6680         Tocilizumab   COVID-19       1\n",
       "6681           Lopinavir   COVID-19       1\n",
       "6682           Ritonavir   COVID-19       1\n",
       "6683          Atovaquone   COVID-19       1\n",
       "6684          Omeprazole   COVID-20       1\n",
       "6685          Famotidine   COVID-21       1\n",
       "6686         Oseltamivir   COVID-22       1\n",
       "6687         Favipiravir  Influenza       1\n",
       "6688         Favipiravir   COVID-19       1\n",
       "6689       Emtricitabine   COVID-19       1\n",
       "6690           Tenofovir   COVID-19       1\n",
       "6691          Atazanavir   COVID-19       1"
      ]
     },
     "execution_count": 11,
     "metadata": {},
     "output_type": "execute_result"
    }
   ],
   "source": [
    "approved_covid.tail(15)"
   ]
  },
  {
   "cell_type": "markdown",
   "metadata": {},
   "source": [
    "Then we train our model."
   ]
  },
  {
   "cell_type": "code",
   "execution_count": 12,
   "metadata": {},
   "outputs": [],
   "source": [
    "data = CollabDataBunch.from_df(approved_covid, seed=42)"
   ]
  },
  {
   "cell_type": "code",
   "execution_count": 13,
   "metadata": {},
   "outputs": [
    {
     "data": {
      "text/html": [
       "<table border=\"1\" class=\"dataframe\">\n",
       "  <thead>\n",
       "    <tr style=\"text-align: left;\">\n",
       "      <th>epoch</th>\n",
       "      <th>train_loss</th>\n",
       "      <th>valid_loss</th>\n",
       "      <th>time</th>\n",
       "    </tr>\n",
       "  </thead>\n",
       "  <tbody>\n",
       "    <tr>\n",
       "      <td>0</td>\n",
       "      <td>0.238649</td>\n",
       "      <td>0.228914</td>\n",
       "      <td>00:00</td>\n",
       "    </tr>\n",
       "    <tr>\n",
       "      <td>1</td>\n",
       "      <td>0.166478</td>\n",
       "      <td>0.107541</td>\n",
       "      <td>00:00</td>\n",
       "    </tr>\n",
       "    <tr>\n",
       "      <td>2</td>\n",
       "      <td>0.075966</td>\n",
       "      <td>0.068207</td>\n",
       "      <td>00:01</td>\n",
       "    </tr>\n",
       "    <tr>\n",
       "      <td>3</td>\n",
       "      <td>0.032451</td>\n",
       "      <td>0.058261</td>\n",
       "      <td>00:00</td>\n",
       "    </tr>\n",
       "    <tr>\n",
       "      <td>4</td>\n",
       "      <td>0.016120</td>\n",
       "      <td>0.055541</td>\n",
       "      <td>00:00</td>\n",
       "    </tr>\n",
       "    <tr>\n",
       "      <td>5</td>\n",
       "      <td>0.011155</td>\n",
       "      <td>0.055121</td>\n",
       "      <td>00:00</td>\n",
       "    </tr>\n",
       "  </tbody>\n",
       "</table>"
      ],
      "text/plain": [
       "<IPython.core.display.HTML object>"
      ]
     },
     "metadata": {},
     "output_type": "display_data"
    }
   ],
   "source": [
    "y_range = [0,1.01]\n",
    "learn = collab_learner(data, n_factors=50, y_range=y_range)\n",
    "learn.fit_one_cycle(6, 5e-3)"
   ]
  },
  {
   "cell_type": "code",
   "execution_count": 14,
   "metadata": {},
   "outputs": [
    {
     "name": "stdout",
     "output_type": "stream",
     "text": [
      "Real\tPred\tDifference\n",
      "1.0\t0.8\t-0.2\n",
      "1.0\t0.9\t-0.1\n",
      "1.0\t0.5\t-0.5\n",
      "1.0\t1.0\t-0.0\n",
      "1.0\t1.0\t0.0\n"
     ]
    }
   ],
   "source": [
    "#sanity check to see if our model is predicting well on the validation data\n",
    "(drug, disease), efficacy = next(iter(data.valid_dl))\n",
    "preds = learn.model(drug, disease)\n",
    "print('Real\\tPred\\tDifference')\n",
    "for p in list(zip(efficacy, preds))[:5]:\n",
    "    print('{}\\t{:.1f}\\t{:.1f}'.format(p[0],p[1],p[1]-p[0]))"
   ]
  },
  {
   "cell_type": "markdown",
   "metadata": {},
   "source": [
    "Next I created a list of all the drugs in our database with the disease set as COVID-19 so that we can ask our model to make predictions of efficacy for each of the drugs on COVID-19."
   ]
  },
  {
   "cell_type": "code",
   "execution_count": 15,
   "metadata": {},
   "outputs": [],
   "source": [
    "covid_candidate_drugs= pd.read_csv('./covid_candidate_drugs.csv')"
   ]
  },
  {
   "cell_type": "code",
   "execution_count": 16,
   "metadata": {},
   "outputs": [
    {
     "data": {
      "text/plain": [
       "(1573, 3)"
      ]
     },
     "execution_count": 16,
     "metadata": {},
     "output_type": "execute_result"
    }
   ],
   "source": [
    "covid_candidate_drugs.shape"
   ]
  },
  {
   "cell_type": "code",
   "execution_count": 17,
   "metadata": {
    "scrolled": true
   },
   "outputs": [
    {
     "data": {
      "text/html": [
       "<div>\n",
       "<style scoped>\n",
       "    .dataframe tbody tr th:only-of-type {\n",
       "        vertical-align: middle;\n",
       "    }\n",
       "\n",
       "    .dataframe tbody tr th {\n",
       "        vertical-align: top;\n",
       "    }\n",
       "\n",
       "    .dataframe thead th {\n",
       "        text-align: right;\n",
       "    }\n",
       "</style>\n",
       "<table border=\"1\" class=\"dataframe\">\n",
       "  <thead>\n",
       "    <tr style=\"text-align: right;\">\n",
       "      <th></th>\n",
       "      <th>drug_name</th>\n",
       "      <th>ind_name</th>\n",
       "      <th>rating</th>\n",
       "    </tr>\n",
       "  </thead>\n",
       "  <tbody>\n",
       "    <tr>\n",
       "      <th>1568</th>\n",
       "      <td>Acetylcarnitine</td>\n",
       "      <td>COVID-19</td>\n",
       "      <td>NaN</td>\n",
       "    </tr>\n",
       "    <tr>\n",
       "      <th>1569</th>\n",
       "      <td>Eslicarbazepine acetate</td>\n",
       "      <td>COVID-19</td>\n",
       "      <td>NaN</td>\n",
       "    </tr>\n",
       "    <tr>\n",
       "      <th>1570</th>\n",
       "      <td>Nitrendipine</td>\n",
       "      <td>COVID-19</td>\n",
       "      <td>NaN</td>\n",
       "    </tr>\n",
       "    <tr>\n",
       "      <th>1571</th>\n",
       "      <td>Succinylcholine</td>\n",
       "      <td>COVID-19</td>\n",
       "      <td>NaN</td>\n",
       "    </tr>\n",
       "    <tr>\n",
       "      <th>1572</th>\n",
       "      <td>Remdesivir</td>\n",
       "      <td>COVID-19</td>\n",
       "      <td>NaN</td>\n",
       "    </tr>\n",
       "  </tbody>\n",
       "</table>\n",
       "</div>"
      ],
      "text/plain": [
       "                    drug_name  ind_name  rating\n",
       "1568          Acetylcarnitine  COVID-19     NaN\n",
       "1569  Eslicarbazepine acetate  COVID-19     NaN\n",
       "1570             Nitrendipine  COVID-19     NaN\n",
       "1571          Succinylcholine  COVID-19     NaN\n",
       "1572               Remdesivir  COVID-19     NaN"
      ]
     },
     "execution_count": 17,
     "metadata": {},
     "output_type": "execute_result"
    }
   ],
   "source": [
    "covid_candidate_drugs.tail()"
   ]
  },
  {
   "cell_type": "code",
   "execution_count": 18,
   "metadata": {},
   "outputs": [],
   "source": [
    "drugs_covid_predictions = pd.DataFrame(\n",
    "    [covid_candidate_drugs.loc[i][0], learn.predict(covid_candidate_drugs.loc[i])[0]] for i in range(covid_candidate_drugs.shape[0])\n",
    ")"
   ]
  },
  {
   "cell_type": "code",
   "execution_count": 19,
   "metadata": {},
   "outputs": [],
   "source": [
    "#drugs_df.to_csv('drug_names.csv')\n",
    "drugs_covid_predictions.to_csv('drugs_covid_predictions.csv')"
   ]
  },
  {
   "cell_type": "code",
   "execution_count": 20,
   "metadata": {},
   "outputs": [],
   "source": [
    "drugs_covid_predictions = pd.read_csv('./drugs_covid_predictions.csv')"
   ]
  },
  {
   "cell_type": "code",
   "execution_count": 21,
   "metadata": {},
   "outputs": [],
   "source": [
    "del drugs_covid_predictions['Unnamed: 0']"
   ]
  },
  {
   "cell_type": "code",
   "execution_count": 22,
   "metadata": {},
   "outputs": [],
   "source": [
    "drugs_covid_predictions.rename(columns={'0': 'drug_name', '1': 'predicted_efficacy'}, inplace=True)"
   ]
  },
  {
   "cell_type": "code",
   "execution_count": 23,
   "metadata": {},
   "outputs": [
    {
     "data": {
      "text/html": [
       "<div>\n",
       "<style scoped>\n",
       "    .dataframe tbody tr th:only-of-type {\n",
       "        vertical-align: middle;\n",
       "    }\n",
       "\n",
       "    .dataframe tbody tr th {\n",
       "        vertical-align: top;\n",
       "    }\n",
       "\n",
       "    .dataframe thead th {\n",
       "        text-align: right;\n",
       "    }\n",
       "</style>\n",
       "<table border=\"1\" class=\"dataframe\">\n",
       "  <thead>\n",
       "    <tr style=\"text-align: right;\">\n",
       "      <th></th>\n",
       "      <th>drug_name</th>\n",
       "      <th>predicted_efficacy</th>\n",
       "    </tr>\n",
       "  </thead>\n",
       "  <tbody>\n",
       "    <tr>\n",
       "      <th>793</th>\n",
       "      <td>Benzylpenicillin</td>\n",
       "      <td>0.311477</td>\n",
       "    </tr>\n",
       "    <tr>\n",
       "      <th>899</th>\n",
       "      <td>Fluoxymesterone</td>\n",
       "      <td>0.360499</td>\n",
       "    </tr>\n",
       "    <tr>\n",
       "      <th>1229</th>\n",
       "      <td>Methyltestosterone</td>\n",
       "      <td>0.381914</td>\n",
       "    </tr>\n",
       "    <tr>\n",
       "      <th>1029</th>\n",
       "      <td>Testosterone Propionate</td>\n",
       "      <td>0.384171</td>\n",
       "    </tr>\n",
       "    <tr>\n",
       "      <th>445</th>\n",
       "      <td>Testosterone</td>\n",
       "      <td>0.389494</td>\n",
       "    </tr>\n",
       "  </tbody>\n",
       "</table>\n",
       "</div>"
      ],
      "text/plain": [
       "                    drug_name  predicted_efficacy\n",
       "793          Benzylpenicillin            0.311477\n",
       "899           Fluoxymesterone            0.360499\n",
       "1229       Methyltestosterone            0.381914\n",
       "1029  Testosterone Propionate            0.384171\n",
       "445              Testosterone            0.389494"
      ]
     },
     "execution_count": 23,
     "metadata": {},
     "output_type": "execute_result"
    }
   ],
   "source": [
    "drugs_covid_predictions.sort_values('predicted_efficacy').head()"
   ]
  },
  {
   "cell_type": "markdown",
   "metadata": {},
   "source": [
    "### Listing Our Top 30 Predictions\n",
    "Finally, we list out our top 30 drugs with highest predicted efficacy. "
   ]
  },
  {
   "cell_type": "code",
   "execution_count": 25,
   "metadata": {},
   "outputs": [
    {
     "data": {
      "text/html": [
       "<div>\n",
       "<style scoped>\n",
       "    .dataframe tbody tr th:only-of-type {\n",
       "        vertical-align: middle;\n",
       "    }\n",
       "\n",
       "    .dataframe tbody tr th {\n",
       "        vertical-align: top;\n",
       "    }\n",
       "\n",
       "    .dataframe thead th {\n",
       "        text-align: right;\n",
       "    }\n",
       "</style>\n",
       "<table border=\"1\" class=\"dataframe\">\n",
       "  <thead>\n",
       "    <tr style=\"text-align: right;\">\n",
       "      <th></th>\n",
       "      <th>drug_name</th>\n",
       "      <th>predicted_efficacy</th>\n",
       "    </tr>\n",
       "  </thead>\n",
       "  <tbody>\n",
       "    <tr>\n",
       "      <th>512</th>\n",
       "      <td>Amprenavir</td>\n",
       "      <td>0.806214</td>\n",
       "    </tr>\n",
       "    <tr>\n",
       "      <th>1395</th>\n",
       "      <td>Elvitegravir</td>\n",
       "      <td>0.807242</td>\n",
       "    </tr>\n",
       "    <tr>\n",
       "      <th>1333</th>\n",
       "      <td>Dolutegravir</td>\n",
       "      <td>0.808324</td>\n",
       "    </tr>\n",
       "    <tr>\n",
       "      <th>468</th>\n",
       "      <td>Stavudine</td>\n",
       "      <td>0.811085</td>\n",
       "    </tr>\n",
       "    <tr>\n",
       "      <th>988</th>\n",
       "      <td>Fosamprenavir</td>\n",
       "      <td>0.811877</td>\n",
       "    </tr>\n",
       "    <tr>\n",
       "      <th>64</th>\n",
       "      <td>Enfuvirtide</td>\n",
       "      <td>0.814427</td>\n",
       "    </tr>\n",
       "    <tr>\n",
       "      <th>158</th>\n",
       "      <td>Calcium Acetate</td>\n",
       "      <td>0.814611</td>\n",
       "    </tr>\n",
       "    <tr>\n",
       "      <th>1289</th>\n",
       "      <td>Rilpivirine</td>\n",
       "      <td>0.815321</td>\n",
       "    </tr>\n",
       "    <tr>\n",
       "      <th>673</th>\n",
       "      <td>Didanosine</td>\n",
       "      <td>0.817202</td>\n",
       "    </tr>\n",
       "    <tr>\n",
       "      <th>964</th>\n",
       "      <td>Darunavir</td>\n",
       "      <td>0.817858</td>\n",
       "    </tr>\n",
       "    <tr>\n",
       "      <th>141</th>\n",
       "      <td>Nevirapine</td>\n",
       "      <td>0.818015</td>\n",
       "    </tr>\n",
       "    <tr>\n",
       "      <th>790</th>\n",
       "      <td>Abacavir</td>\n",
       "      <td>0.820548</td>\n",
       "    </tr>\n",
       "    <tr>\n",
       "      <th>937</th>\n",
       "      <td>Saquinavir</td>\n",
       "      <td>0.822054</td>\n",
       "    </tr>\n",
       "    <tr>\n",
       "      <th>706</th>\n",
       "      <td>Zalcitabine</td>\n",
       "      <td>0.822348</td>\n",
       "    </tr>\n",
       "    <tr>\n",
       "      <th>212</th>\n",
       "      <td>Calcium Gluceptate</td>\n",
       "      <td>0.828198</td>\n",
       "    </tr>\n",
       "    <tr>\n",
       "      <th>515</th>\n",
       "      <td>Delavirdine</td>\n",
       "      <td>0.828593</td>\n",
       "    </tr>\n",
       "    <tr>\n",
       "      <th>1181</th>\n",
       "      <td>Tocilizumab</td>\n",
       "      <td>0.829506</td>\n",
       "    </tr>\n",
       "    <tr>\n",
       "      <th>1199</th>\n",
       "      <td>Etravirine</td>\n",
       "      <td>0.833158</td>\n",
       "    </tr>\n",
       "    <tr>\n",
       "      <th>347</th>\n",
       "      <td>Zidovudine</td>\n",
       "      <td>0.836214</td>\n",
       "    </tr>\n",
       "    <tr>\n",
       "      <th>131</th>\n",
       "      <td>Indinavir</td>\n",
       "      <td>0.836216</td>\n",
       "    </tr>\n",
       "    <tr>\n",
       "      <th>128</th>\n",
       "      <td>Nelfinavir</td>\n",
       "      <td>0.839249</td>\n",
       "    </tr>\n",
       "    <tr>\n",
       "      <th>1572</th>\n",
       "      <td>Remdesivir</td>\n",
       "      <td>0.847332</td>\n",
       "    </tr>\n",
       "    <tr>\n",
       "      <th>879</th>\n",
       "      <td>Calcium Chloride</td>\n",
       "      <td>0.854238</td>\n",
       "    </tr>\n",
       "    <tr>\n",
       "      <th>519</th>\n",
       "      <td>Lamivudine</td>\n",
       "      <td>0.875763</td>\n",
       "    </tr>\n",
       "    <tr>\n",
       "      <th>1068</th>\n",
       "      <td>Hydroxychloroquine</td>\n",
       "      <td>0.887860</td>\n",
       "    </tr>\n",
       "    <tr>\n",
       "      <th>809</th>\n",
       "      <td>Atazanavir</td>\n",
       "      <td>0.896652</td>\n",
       "    </tr>\n",
       "    <tr>\n",
       "      <th>657</th>\n",
       "      <td>Emtricitabine</td>\n",
       "      <td>0.899796</td>\n",
       "    </tr>\n",
       "    <tr>\n",
       "      <th>1062</th>\n",
       "      <td>Lopinavir</td>\n",
       "      <td>0.899816</td>\n",
       "    </tr>\n",
       "    <tr>\n",
       "      <th>190</th>\n",
       "      <td>Tenofovir</td>\n",
       "      <td>0.900306</td>\n",
       "    </tr>\n",
       "    <tr>\n",
       "      <th>354</th>\n",
       "      <td>Ritonavir</td>\n",
       "      <td>0.900822</td>\n",
       "    </tr>\n",
       "  </tbody>\n",
       "</table>\n",
       "</div>"
      ],
      "text/plain": [
       "               drug_name  predicted_efficacy\n",
       "512           Amprenavir            0.806214\n",
       "1395        Elvitegravir            0.807242\n",
       "1333        Dolutegravir            0.808324\n",
       "468            Stavudine            0.811085\n",
       "988        Fosamprenavir            0.811877\n",
       "64           Enfuvirtide            0.814427\n",
       "158      Calcium Acetate            0.814611\n",
       "1289         Rilpivirine            0.815321\n",
       "673           Didanosine            0.817202\n",
       "964            Darunavir            0.817858\n",
       "141           Nevirapine            0.818015\n",
       "790             Abacavir            0.820548\n",
       "937           Saquinavir            0.822054\n",
       "706          Zalcitabine            0.822348\n",
       "212   Calcium Gluceptate            0.828198\n",
       "515          Delavirdine            0.828593\n",
       "1181         Tocilizumab            0.829506\n",
       "1199          Etravirine            0.833158\n",
       "347           Zidovudine            0.836214\n",
       "131            Indinavir            0.836216\n",
       "128           Nelfinavir            0.839249\n",
       "1572          Remdesivir            0.847332\n",
       "879     Calcium Chloride            0.854238\n",
       "519           Lamivudine            0.875763\n",
       "1068  Hydroxychloroquine            0.887860\n",
       "809           Atazanavir            0.896652\n",
       "657        Emtricitabine            0.899796\n",
       "1062           Lopinavir            0.899816\n",
       "190            Tenofovir            0.900306\n",
       "354            Ritonavir            0.900822"
      ]
     },
     "execution_count": 25,
     "metadata": {},
     "output_type": "execute_result"
    }
   ],
   "source": [
    "drugs_covid_predictions.sort_values('predicted_efficacy').tail(30)"
   ]
  },
  {
   "cell_type": "markdown",
   "metadata": {},
   "source": [
    "### Evaluating Results from Our Top Predictions\n",
    "It's no surprise to see the usual suspects such as ritonavir or tenofovir in our top 30 as these were already supplied by us with a score of 1 when we trained our model. Some drugs predicted by our model and being investigated for COVID-19 are:\n",
    "\n",
    "1. Nelfinavir - Multidrug treatment with nelfinavir and cepharanthine against COVID-19 https://www.biorxiv.org/content/10.1101/2020.04.14.039925v1\n",
    "\n",
    "2. Indinavir - Mentioned in a paper by Yu-Chuan Chang etc. titled 'Potential therapeutic agents for COVID-19 based on the analysis of protease and RNA polymerase docking'. In this paper, the following claim is made \"Indinavir has the lowest docking score, even outperforming the results of Lopinavir and Ritonavir\" - https://www.preprints.org/manuscript/202002.0242/v1/download\n",
    "\n",
    "\n",
    "\n"
   ]
  },
  {
   "cell_type": "markdown",
   "metadata": {},
   "source": [
    "### Citing this Notebook\n",
    "Contents of this notebook are available under a Creative Commons Attribution 4.0 International License - https://creativecommons.org/licenses/by/4.0/\n",
    "\n",
    "If you've got an idea or suggestion please send me an email at vikramsnarayan@gmail.com"
   ]
  },
  {
   "cell_type": "code",
   "execution_count": null,
   "metadata": {},
   "outputs": [],
   "source": []
  }
 ],
 "metadata": {
  "kernelspec": {
   "display_name": "Python 3",
   "language": "python",
   "name": "python3"
  },
  "language_info": {
   "codemirror_mode": {
    "name": "ipython",
    "version": 3
   },
   "file_extension": ".py",
   "mimetype": "text/x-python",
   "name": "python",
   "nbconvert_exporter": "python",
   "pygments_lexer": "ipython3",
   "version": "3.6.7"
  }
 },
 "nbformat": 4,
 "nbformat_minor": 2
}
